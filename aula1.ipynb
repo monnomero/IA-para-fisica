{
 "cells": [
  {
   "cell_type": "markdown",
   "metadata": {},
   "source": [
    "<div style=\"width:90%; text-align:center; border-width: 0px; display:block; margin-left:auto; margin-right:auto; background-color:off white; position: relative;\">\n",
    "  <div class=\"alert alert-block alert-success\" style=\"text-align:center; color:white; background-color:#1e2124 !important;\">\n",
    "    <img src=\"https://raw.githubusercontent.com/monnomero/IA-para-fisica/main/Imagens/logo_unb.png\" style=\"width: 200px; opacity:0.85;\">\n",
    "    <h1>Universidade de Brasília</h1>\n",
    "    <h2>Instituto de Física</h2>\n",
    "    <hr style=\"width:44%;border:1px solid white;\">\n",
    "    <h3>Mini Curso de Inteligência Artificial para a Física</h3> \n",
    "    <h4>Henrique de Oliveira Noronha</h4>\n",
    "    <hr style=\"width:44%;border:1px solid white;\">\n",
    "  </div>\n",
    "  <img src=\"https://raw.githubusercontent.com/monnomero/IA-para-fisica/main/Imagens/logo_if.png\" style=\"position: absolute; bottom: 20px; left: 40px; width: 100px;\">\n",
    "</div>\n"
   ]
  },
  {
   "cell_type": "markdown",
   "metadata": {},
   "source": [
    "# **➲ Aula 1 - Introdução a Redes Neurais**\n",
    "\n",
    "## ➥ O que são redes neurais?\n",
    "---\n"
   ]
  },
  {
   "cell_type": "markdown",
   "metadata": {},
   "source": [
    "Redes neurais são funções f: $\\mathbb{R}^n$ $\\rightarrow$ $\\mathbb{R}^m$, onde n é a dimensão da entrada e m, a dimensão da saída. É importante notar que m e n podem ser produtos cartesianos, por exemplo, uma rede neural usada para classificar imagens em escala cinza de $64\\times64$ pixels de diferentes animais. Nesse caso, a entrada possuiria dimensão $\\mathbb{R}^{64\\times64}$ e a saída $\\mathbb{R}$. Também poderia ser feito um achatamento dos dados, resultando em um modelo $\\mathbb{R}^{4096}$ $\\rightarrow$ $\\mathbb{R}$, e normalmente é o que é realizado na prática.\n",
    "\n",
    "As principais tarefas de modelos de aprendizado de máquina são classificação e regressão. A classificação, como foi exemplificado anteriormente, é a tarefa de separar dados em classes distintas e discretas. A regressão, por outro lado, é a tarefa de prever valores contínuos a partir de valores de entrada, um exemplo seria o de atribuir um valor em porcentagem do risco para o banco de inadimplência de um empréstimo dado a um cliente. As entradas nesse caso poderiam ser, renda mensal, porcentagem de inadimplência passada, valor em dívidas, etc.\n",
    "\n",
    "Apesar de existirem outras tarefas, como a geração de texto, focaremos na regressão para modelar sistemas físicos. Existem vários modelos de redes neurais, a mais básica e comum é a rede neural densamente conectada. Ela é formada por camadas de neurônios, em que cada neurônio da camada possui conexões com todos os neurônios da próxima camada. Isso se torna mais fácil de visualizar a partir de uma imagem:\n",
    "\n",
    "\n",
    "<div style=\"text-align: center;\">\n",
    "  <img src=\"https://raw.githubusercontent.com/monnomero/IA-para-fisica/main/Imagens/Densa.png\" alt=\"camada_densa\" width=\"500\">\n",
    "</div>\n",
    "\n",
    "Nessa imagem, a camada à esquerda representa a entrada, composta por 3 neurônios. A camada à direita é a saída, composta por apenas 1 neurônio. Por fim, a camada intermediária é a única camada oculta do modelo. Ela é chamada de 'oculta' porque, apesar de ser responsável pelo aprendizado do modelo, sua atuação não é diretamente visível durante o uso da rede neural, já que apenas a entrada e a saída são observadas. Com isso, temos que esse é um modelo de $\\mathbb{R}^3 \\rightarrow \\mathbb{R}$.\n",
    "\n",
    "Cada um desses neurônios representam um número e essas conexões representa uma operação matemática. Vamos focar em um dos neurônios de ativação:\n",
    "\n",
    "<div style=\"text-align: center;\">\n",
    "  <img src=\"https://raw.githubusercontent.com/monnomero/IA-para-fisica/main/Imagens/Zoom.png\" alt=\"zoom_neuronio\" width=\"700\">\n",
    "</div>\n",
    "\n",
    "Podemos ver então que as conexões representam uma transformação afim. Considerando o vetor linha $\\textbf{X} = (x_{1}, x_{2}, x_{3})$ e o vetor linha $\\textbf{W}_{1} = (w_{11}, w_{21}, w_{31})$, então $h_{1} = A(\\textbf{W}_{1}^{T} \\textbf{X} + b_{1})$. A função A é normalmente uma função não linear facilmente derivável, como tanh, para as conexões em direção às camadas ocultas ou uma função identidade para as conexões em direção às camadas de saída. Os fatores multiplicativos $w_{j}$ são denominados pesos, e o fator aditivo $b_{1}$ é o viés.\n",
    "\n",
    "Abaixo está um código com o exemplo acima, com os pesos e vieses gerados aleatoriamente entre -1 e 1:"
   ]
  },
  {
   "cell_type": "code",
   "execution_count": 38,
   "metadata": {},
   "outputs": [
    {
     "name": "stdout",
     "output_type": "stream",
     "text": [
      "Saída = 0.239921\n"
     ]
    }
   ],
   "source": [
    "import numpy as np\n",
    "\n",
    "#Travar a semente para obter os mesmos resultados\n",
    "np.random.seed(42)\n",
    "\n",
    "#Vetores de peso da camada de entrada em direção à camada oculta\n",
    "W11 = np.random.uniform(-1,1,size=3)\n",
    "W12 = np.random.uniform(-1,1,size=3)\n",
    "W13 = np.random.uniform(-1,1,size=3)\n",
    "W14 = np.random.uniform(-1,1,size=3)\n",
    "\n",
    "#Vieses da camada de entrada em direção à camada oculta\n",
    "b11 = np.random.uniform(-1,1)\n",
    "b12 = np.random.uniform(-1,1)\n",
    "b13 = np.random.uniform(-1,1)\n",
    "b14 = np.random.uniform(-1,1)\n",
    "\n",
    "#Vetores de peso da camada oculta em direção à camada de saida\n",
    "W21 = np.random.uniform(-1,1,size=4)\n",
    "\n",
    "#Vieses da camada oculta em direção à camada de saída\n",
    "b21 = np.random.uniform(-1,1)\n",
    "\n",
    "#Agrupamento por camada\n",
    "W1s = [W11,W12,W13,W14]\n",
    "b1s = [b11,b12,b13,b14]\n",
    "W2s =  [W21]\n",
    "b2s = [b21]\n",
    "\n",
    "#Valores de entrada X\n",
    "\n",
    "X = np.array((0.5,0.8,0.1))\n",
    "\n",
    "#Camada de entrada -> Camada oculta\n",
    "z1s = []\n",
    "\n",
    "for W in W1s:\n",
    "    z=0\n",
    "    for i in range(len(X)):\n",
    "        z+=W[i]*X[i]\n",
    "    z1s.append(z)\n",
    "\n",
    "g1s = []\n",
    "\n",
    "for i in range(len(b1s)):\n",
    "    g1s.append(z1s[i]+b1s[i])\n",
    "\n",
    "h1s = []\n",
    "\n",
    "for i in range(len(g1s)):\n",
    "    h1s.append(np.tanh(g1s[i]))\n",
    "\n",
    "#Camada oculta -> Camada de saída\n",
    "z2s = []\n",
    "\n",
    "for W in W2s:\n",
    "    z=0\n",
    "    for i in range(len(h1s)):\n",
    "        z+=W[i]*h1s[i]\n",
    "    z2s.append(z)\n",
    "\n",
    "g2s = []\n",
    "\n",
    "for i in range(len(b2s)):\n",
    "    g2s.append(z2s[i]+b2s[i])\n",
    "\n",
    "h2s = []\n",
    "\n",
    "for i in range(len(g2s)):\n",
    "    h2s.append((g2s[i]))\n",
    "\n",
    "print(f\"Saída = {h2s[0]:.6f}\")\n",
    "    \n"
   ]
  },
  {
   "cell_type": "markdown",
   "metadata": {},
   "source": [
    "Utilizando um pouco de álgebra linear, é possível reescrever essas operações em forma de multiplicações de matrizes e vetores. Para isso, nesse caso fazemos uma matriz de pesos W1, de dimensão (3,4), um vetor de vieses b1 de dimensão (4), um vetor de resultados da camada oculta H1, de dimensão (4), outra matriz de pesos W2, de dimensão (4) e um vetor de vieses B2 de dimensão (1):"
   ]
  },
  {
   "cell_type": "code",
   "execution_count": 39,
   "metadata": {},
   "outputs": [
    {
     "name": "stdout",
     "output_type": "stream",
     "text": [
      "Saída = 0.239921\n"
     ]
    }
   ],
   "source": [
    "W1 = np.stack(W1s,1)\n",
    "B1 = np.stack(b1s,0)\n",
    "H1 = np.tanh(np.matmul(X,W1)+B1)\n",
    "W2 = np.stack(W2s,1)\n",
    "B2 = np.stack(b2s,0)\n",
    "H2 = np.matmul(H1,W2)+B2\n",
    "print(f\"Saída = {H2[0]:.6f}\")\n"
   ]
  },
  {
   "cell_type": "markdown",
   "metadata": {},
   "source": [
    "A seguir, apresento uma implementação orientada a objetos para generalizar para N camadas de dimensão qualquer, contanto que a dimensão de entrada e saída sejam números inteiros: "
   ]
  },
  {
   "cell_type": "code",
   "execution_count": 40,
   "metadata": {},
   "outputs": [],
   "source": [
    "class Camada:\n",
    "    def __init__(self, unidades_esquerda, unidades_direita, ativacao, pesos):\n",
    "        self.unidades_esquerda= unidades_esquerda\n",
    "        self.unidades_direita = unidades_direita\n",
    "        self.pesos = pesos\n",
    "        self.ativacao = ativacao\n",
    "        self.direita = None \n",
    "        \n",
    "class Rede_neural:\n",
    "    def __init__(self):\n",
    "        self.input = None\n",
    "    def inserir_camada(self,camada,unidades_esquerda,unidades, ativacao):\n",
    "        if camada is None:\n",
    "            if unidades_esquerda is None:\n",
    "                return Camada(unidades_esquerda, unidades, ativacao, None)\n",
    "            else:\n",
    "                return Camada(unidades_esquerda, unidades, ativacao, [np.random.uniform(-1,1,size=(unidades_esquerda,unidades)),np.random.uniform(-1,1,size=(unidades))])\n",
    "        else:\n",
    "            unidades_atual = camada.unidades_direita\n",
    "            camada.direita = self.inserir_camada(camada.direita,unidades_atual,unidades,ativacao)\n",
    "            return camada\n",
    "    def percorrer(self,camada,x):\n",
    "        resultado = x\n",
    "        if camada is not None and camada.pesos is not None:\n",
    "            resultado = (camada.ativacao(np.matmul(x,camada.pesos[0])+camada.pesos[1]))\n",
    "        if camada is None:\n",
    "            return resultado\n",
    "        return self.percorrer(camada.direita,resultado)\n",
    "            \n"
   ]
  },
  {
   "cell_type": "code",
   "execution_count": 41,
   "metadata": {},
   "outputs": [
    {
     "name": "stdout",
     "output_type": "stream",
     "text": [
      "[[1.76990801]]\n"
     ]
    }
   ],
   "source": [
    "#Montando a rede neural\n",
    "Rede = Rede_neural()\n",
    "#Introduzindo a primeira camada com o método inserir_camada que tem como argumentos(Camada, Unidades à esquerda da camada (sempre None), (Unidades), função de ativação)\n",
    "Rede.input = Rede.inserir_camada(Rede.input,None,3,None)\n",
    "#Introduzindo as camadas ocultas\n",
    "Rede.inserir_camada(Rede.input,None,64,lambda x: np.tanh(x))\n",
    "Rede.inserir_camada(Rede.input,None,1,lambda x: x)\n",
    "#Entrada\n",
    "X = np.array(((1,2,3))).reshape(-1,3)\n",
    "#Saída\n",
    "print(Rede.percorrer(Rede.input,X))"
   ]
  },
  {
   "cell_type": "markdown",
   "metadata": {},
   "source": [
    "## ➥ Como treinar a rede neural?\n",
    "---\n",
    "\n",
    "Agora que temos nossa rede neural, precisamos realizar a etapa mais importante do aprendizado de máquina: o próprio aprendizado. Mas, afinal, o que significa que um modelo aprendeu algo? Neste contexto, significa que ele é capaz de, ao receber determinados valores de entrada, produzir com precisão os valores de saída correspondentes. O objetivo final é que, mesmo ao receber novos valores de entrada — que não foram utilizados durante o treinamento — o modelo consiga prever saídas coerentes com a situação.\n",
    "\n",
    "Certo, agora que entendemos o que significa treinar o modelo, temos que elaborar um algoritmo para isso. Para isso, vamos construir uma função L, denominada função de perda, que indica o quão bom o modelo está em relação aos dados de entrada e saída fornecidos. Uma função de perda natural seria:\n",
    "\n",
    "\\begin{equation*}\n",
    "    L = \\sum_{i=1}^{k}|saída_{i_{modelo}}- saída_{i_{esperada}}|\n",
    "\\end{equation*}\n",
    "\n",
    "onde k são o número de saídas providenciadas para o treinamento. É possível notar que conforme a função L se aproxima de 0, todos os valores da saída do modelo tendem aos valores de saída esperados, que é justamente o que queremos. Logo, o objetivo agora é minimizar essa função de perda, para isso, precisamos achar o conjunto de pesos e vieses que fazem com que o modelo, ao receber como entrada os valores de entrada fornecidos, retorne o mais perto possível os valores de saída fornecidos. Quem sabe um pouco de cálculo, ao ler isso, talvez já pense em derivadas, em cálculo 1, aprendemos que para obtermos um mínimo de uma função f(x), temos que fazer f'(x) = 0, e se f''(x) > 0, esse é o mínimo da função. Porém, o processo se torna mais complexos conforme o número de variáveis que a função depende, pois conforme o número de variáveis aumenta, o número de mínimos locais tende a aumentar também. Nossa função de perda acima, por exemplo, depende de todos os pesos e todos os vieses da rede neural, e também das entradas e saídas fornecidas. Contudo, a derivada realmente vai exercer um papel fundamental no nosso algoritmo, especificamente, o gradiente. \n",
    "\n",
    "O gradiente de uma função de várias váriaveis $f = f(x_1,x_2,...x_n)$ é dado por $\\nabla f = \\frac{\\partial f}{\\partial x_1} \\hat x_1 + \\frac{\\partial f}{\\partial x_2} \\hat x_2 + ... \\frac{\\partial f}{\\partial x_n} \\hat x_n$. Esse vetor indica a direção em que o valor da função aumenta mais rapidamente, por outro lado, $-\\nabla f$ indica a direção em que o valor da função diminui mais rapidamente. Com isso, ao calcularmos o gradiente de L, vamos obter a direção em que o modelo aprende mais rápido, e podemos fazer os pesos e vieses \"caminharem\" em direção a eles. Para isso, estabelecemos um parâmetro pequeno $lr>0$ denominado $\\textit{learning rate}$, ou taxa de aprendizagem, que controla o quanto os pesos e vieses vão se mover em direção a $-\\nabla L$. O algoritmo então é:\n",
    "\n",
    "\\begin{equation*}\n",
    "    w_i \\colonequals w_i - lr*\\frac{\\partial L}{\\partial w_i} \n",
    "\\end{equation*}\n",
    "\n",
    "\n",
    "\\begin{equation*}\n",
    "    b_i \\colonequals b_i - lr*\\frac{\\partial L}{\\partial b_i} \n",
    "\\end{equation*}"
   ]
  },
  {
   "cell_type": "markdown",
   "metadata": {},
   "source": [
    "# Método do gradiente\n",
    "\n",
    "Vamos exemplificar o método do gradiente utilizando uma função simples de achar o mínimo e outra mais complicada, para demonstrar as fraquezas do método "
   ]
  },
  {
   "cell_type": "code",
   "execution_count": 52,
   "metadata": {},
   "outputs": [],
   "source": [
    "import numpy as np\n",
    "import matplotlib.pyplot as plt"
   ]
  },
  {
   "cell_type": "code",
   "execution_count": 53,
   "metadata": {},
   "outputs": [
    {
     "name": "stdout",
     "output_type": "stream",
     "text": [
      "Resultado final do método gradiente, x = -0.00005, y = 0.00018 f(x,y) = 0.00000\n"
     ]
    },
    {
     "data": {
      "image/png": "[encoded data removed]",
      "text/plain": [
       "<Figure size 640x480 with 1 Axes>"
      ]
     },
     "metadata": {},
     "output_type": "display_data"
    }
   ],
   "source": [
    "#Travar a semente para obter os mesmos resultados\n",
    "np.random.seed(42)\n",
    "\n",
    "# Função x²+y²\n",
    "def simples(x,y):\n",
    "    return x*x + y*y\n",
    "# Retorna gradiente = (2x,2y)\n",
    "def gradiente_simples(x,y):\n",
    "    return np.array((2*x,2*y))\n",
    "\n",
    "chutes_iniciais = np.random.uniform(-5,5,size=2)\n",
    "lr = 0.01\n",
    "resultados = np.copy(chutes_iniciais)\n",
    "progresso = []\n",
    "\n",
    "for i in range(500):\n",
    "    resultados = resultados - lr*gradiente_simples(resultados[0],resultados[1])\n",
    "    if (i+1)%10==0:\n",
    "        progresso.append(resultados)\n",
    "\n",
    "progresso = np.array(progresso)\n",
    "plt.title(\"Progresso do treinamento\")\n",
    "plt.xlabel(\"x\")\n",
    "plt.ylabel(\"y\")\n",
    "plt.scatter(progresso[:,0],progresso[:,1],s=15)\n",
    "print(f\"Resultado final do método gradiente, x = {resultados[0]:.5f}, y = {resultados[1]:.5f} f(x,y) = {simples(resultados[0],resultados[1]):.5f}\")\n",
    "plt.show()\n",
    "\n",
    "\n"
   ]
  },
  {
   "cell_type": "markdown",
   "metadata": {},
   "source": [
    "Como é possível observar, o nosso método possui uma falha clara: conforme as variáveis aproximam um mínimo (seja local ou global), os gradientes se tornam pequenos, o que faz com que o método demore a convergir para esse mínimo. Se fosse só isso, ainda estaria bom, esse problema, contudo, se torna um problemão no exemplo abaixo, com uma função mais complexa de obter o mínimo local: "
   ]
  },
  {
   "cell_type": "code",
   "execution_count": null,
   "metadata": {},
   "outputs": [
    {
     "name": "stdout",
     "output_type": "stream",
     "text": [
      "Resultado final do método gradiente, x = 0.80804, y = 2.83015, f(x,y) = -2.09869\n"
     ]
    },
    {
     "data": {
      "image/png": "[encoded data removed]",
      "text/plain": [
       "<Figure size 640x480 with 1 Axes>"
      ]
     },
     "metadata": {},
     "output_type": "display_data"
    }
   ],
   "source": [
    "#Travar a semente para obter os mesmos resultados\n",
    "np.random.seed(42)\n",
    "\n",
    "\n",
    "# Função \n",
    "def complicada(x,y):\n",
    "    return \n",
    "# Retorna gradiente = \n",
    "def gradiente_comlicada(x,y):\n",
    "    return np.array()\n",
    "\n",
    "chutes_iniciais = np.random.uniform(-5,5,size=2)\n",
    "lr = 0.01\n",
    "resultados = np.copy(chutes_iniciais)\n",
    "progresso = []\n",
    "\n",
    "for i in range(500):\n",
    "    resultados = resultados - lr*gradiente_comlicada(resultados[0],resultados[1])\n",
    "    if (i+1)%10==0:\n",
    "        progresso.append(resultados)\n",
    "\n",
    "progresso = np.array(progresso)\n",
    "plt.title(\"Progresso do treinamento\")\n",
    "plt.xlabel(\"x\")\n",
    "plt.ylabel(\"y\")\n",
    "plt.scatter(progresso[:,0],progresso[:,1],s=15)\n",
    "print(f\"Resultado final do método gradiente, x = {resultados[0]:.5f}, y = {resultados[1]:.5f}, f(x,y) = {complicada(resultados[0],resultados[1]):.5f}\")\n",
    "plt.show()\n",
    "\n",
    "\n"
   ]
  },
  {
   "cell_type": "code",
   "execution_count": 8,
   "metadata": {},
   "outputs": [
    {
     "ename": "NameError",
     "evalue": "name 'tf' is not defined",
     "output_type": "error",
     "traceback": [
      "\u001b[31m---------------------------------------------------------------------------\u001b[39m",
      "\u001b[31mNameError\u001b[39m                                 Traceback (most recent call last)",
      "\u001b[36mCell\u001b[39m\u001b[36m \u001b[39m\u001b[32mIn[8]\u001b[39m\u001b[32m, line 26\u001b[39m\n\u001b[32m     21\u001b[39m             gradientes.append(tape.gradient(\u001b[38;5;28mself\u001b[39m.loss(y),\u001b[38;5;28mself\u001b[39m.b))    \n\u001b[32m     22\u001b[39m         \u001b[38;5;28;01mreturn\u001b[39;00m gradientes\n\u001b[32m---> \u001b[39m\u001b[32m26\u001b[39m x = \u001b[43mtf\u001b[49m.Variable([\u001b[32m2.0\u001b[39m,\u001b[32m4.0\u001b[39m,\u001b[32m6.0\u001b[39m])\n\u001b[32m     27\u001b[39m w = tf.Variable(\u001b[32m3.0\u001b[39m)\n\u001b[32m     28\u001b[39m b = tf.Variable(\u001b[32m1.0\u001b[39m)\n",
      "\u001b[31mNameError\u001b[39m: name 'tf' is not defined"
     ]
    }
   ],
   "source": [
    "class Celula:\n",
    "\n",
    "    def __init__(self, w, b, x):\n",
    "        self.w = w\n",
    "        self.b = b\n",
    "        self.x = x \n",
    "\n",
    "    def forward(self):\n",
    "        return self.w*self.x+self.b\n",
    "\n",
    "    def loss(self,y):\n",
    "        return tf.abs(self.forward()-y) \n",
    "\n",
    "    def backward(self,y):\n",
    "        gradientes = []\n",
    "        with tf.GradientTape() as tape:\n",
    "            tape.watch(self.w)\n",
    "            gradientes.append(tape.gradient(self.loss(y),self.w))\n",
    "        with tf.GradientTape() as tape:\n",
    "            tape.watch(self.b)\n",
    "            gradientes.append(tape.gradient(self.loss(y),self.b))    \n",
    "        return gradientes\n",
    "\n",
    "\n",
    "\n",
    "x = tf.Variable([2.0,4.0,6.0])\n",
    "w = tf.Variable(3.0)\n",
    "b = tf.Variable(1.0)\n",
    "y = tf.Variable([4.0,8.0,12.0])\n",
    "teste = Celula(w,b,x)\n",
    "#print(teste.backward(tf.Variable(4.0)))\n",
    "lr = 0.001\n",
    "for i in range(1000):\n",
    "    gradientes = teste.backward(y)\n",
    "    teste.w,teste.b = teste.w-lr*gradientes[0] , teste.b-lr*gradientes[1] \n",
    "    if (i+1)%100==0:\n",
    "        tf.print(teste.w,teste.b)\n",
    "print(teste.forward())\n",
    "\n",
    "'''with tf.GradientTape() as tape:\n",
    "    x_ = teste.x\n",
    "    tape.watch(x_)\n",
    "    teste.forward()\n",
    "    print(tape.gradient(teste.x,x_))'''\n"
   ]
  }
 ],
 "metadata": {
  "kernelspec": {
   "display_name": ".venv",
   "language": "python",
   "name": "python3"
  },
  "language_info": {
   "codemirror_mode": {
    "name": "ipython",
    "version": 3
   },
   "file_extension": ".py",
   "mimetype": "text/x-python",
   "name": "python",
   "nbconvert_exporter": "python",
   "pygments_lexer": "ipython3",
   "version": "3.12.3"
  }
 },
 "nbformat": 4,
 "nbformat_minor": 2
}
